{
 "cells": [
  {
   "cell_type": "code",
   "execution_count": 9,
   "metadata": {},
   "outputs": [
    {
     "name": "stdout",
     "output_type": "stream",
     "text": [
      "hello\n",
      "/Users/nandinichaturvedi\n",
      "total 24\n",
      "drwxr-xr-x   10 nandinichaturvedi  staff   340 Jul  6  2016 \u001b[34mApplications\u001b[m\u001b[m\n",
      "drwx------+   5 nandinichaturvedi  staff   170 Feb 18 22:06 \u001b[34mDesktop\u001b[m\u001b[m\n",
      "drwx------+  54 nandinichaturvedi  staff  1836 Feb  4 21:57 \u001b[34mDocuments\u001b[m\u001b[m\n",
      "drwx------+ 103 nandinichaturvedi  staff  3502 Feb 22 23:06 \u001b[34mDownloads\u001b[m\u001b[m\n",
      "drwx------@  58 nandinichaturvedi  staff  1972 Feb 18 19:21 \u001b[34mLibrary\u001b[m\u001b[m\n",
      "drwx------+   3 nandinichaturvedi  staff   102 Nov  9  2014 \u001b[34mMovies\u001b[m\u001b[m\n",
      "drwx------+   4 nandinichaturvedi  staff   136 Dec 13  2014 \u001b[34mMusic\u001b[m\u001b[m\n",
      "drwx------+   6 nandinichaturvedi  staff   204 Jun  5  2016 \u001b[34mPictures\u001b[m\u001b[m\n",
      "drwxr-xr-x+   5 nandinichaturvedi  staff   170 Nov  9  2014 \u001b[34mPublic\u001b[m\u001b[m\n",
      "drwxrwxr-x    2 nandinichaturvedi  staff    68 Feb 25 11:52 \u001b[34mPython\u001b[m\u001b[m\n",
      "-rw-r--r--    1 nandinichaturvedi  staff   832 Feb 25 11:54 Python_practice.ipynb\n",
      "-rw-r--r--    1 nandinichaturvedi  staff  1302 Feb 18 22:29 R Practice.ipynb\n",
      "-rw-r--r--    1 nandinichaturvedi  staff  2279 Feb 24 13:32 UnixShell.ipynb\n"
     ]
    }
   ],
   "source": [
    "print(\"hello\")\n",
    "#!mkdir Python\n",
    "!chmod 775 /Users/nandinichaturvedi/Python\n",
    "!cd Python\n",
    "!pwd\n",
    "!ls -l\n",
    "!mv /Users/nandinichaturvedi/Python /Users/nandinichaturvedi/Documents/\n",
    "!cd /Users"
   ]
  }
 ],
 "metadata": {
  "kernelspec": {
   "display_name": "Python 3",
   "language": "python",
   "name": "python3"
  },
  "language_info": {
   "codemirror_mode": {
    "name": "ipython",
    "version": 3
   },
   "file_extension": ".py",
   "mimetype": "text/x-python",
   "name": "python",
   "nbconvert_exporter": "python",
   "pygments_lexer": "ipython3",
   "version": "3.6.4"
  }
 },
 "nbformat": 4,
 "nbformat_minor": 2
}
