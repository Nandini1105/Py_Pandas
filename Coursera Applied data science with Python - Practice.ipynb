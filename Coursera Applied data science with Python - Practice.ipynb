{
 "cells": [
  {
   "cell_type": "code",
   "execution_count": 1,
   "metadata": {},
   "outputs": [
    {
     "name": "stdout",
     "output_type": "stream",
     "text": [
      "True\n",
      "True\n",
      "True\n",
      "True\n",
      "<class 'function'>\n"
     ]
    },
    {
     "data": {
      "text/plain": [
       "True"
      ]
     },
     "execution_count": 1,
     "metadata": {},
     "output_type": "execute_result"
    }
   ],
   "source": [
    "#using lambda functions ; lambda are anonymous functions and return one expression only\n",
    "people = ['Dr. Christopher Brooks', 'Dr. Kevyn Collins-Thompson', 'Dr. VG Vinod Vydiswaran', 'Dr. Daniel Romero']\n",
    "\n",
    "def split_title_and_name(person):\n",
    "    return person.split()[0] + ' ' + person.split()[-1]\n",
    "\n",
    "#option 1\n",
    "for person in people:\n",
    "    result=lambda person:person.split()[0] + ' ' + person.split()[-1]\n",
    "    print(split_title_and_name(person) == result(person))\n",
    "\n",
    "#option 2\n",
    "result=lambda person:person.split()[0] + ' ' + person.split()[-1]\n",
    "print(type(result))\n",
    "list(map(split_title_and_name, people)) == list(map(result,people))"
   ]
  },
  {
   "cell_type": "code",
   "execution_count": 2,
   "metadata": {},
   "outputs": [
    {
     "data": {
      "text/plain": [
       "['Dr. Brooks', 'Dr. Collins-Thompson', 'Dr. Vydiswaran', 'Dr. Romero']"
      ]
     },
     "execution_count": 2,
     "metadata": {},
     "output_type": "execute_result"
    }
   ],
   "source": [
    "# practice exercises from Coursera - applied data science\n",
    "# using map function ; take four names in a list and generate an output thats combination of Title and last name \n",
    "# given list of names\n",
    "people = ['Dr. Christopher Brooks', 'Dr. Kevyn Collins-Thompson', 'Dr. VG Vinod Vydiswaran', 'Dr. Daniel Romero']\n",
    "def split_names(person):\n",
    "    return person.split(' ')[0]+\" \"+person.split(' ')[-1]\n",
    "list(map(split_names,people))\n"
   ]
  },
  {
   "cell_type": "code",
   "execution_count": 7,
   "metadata": {},
   "outputs": [
    {
     "name": "stdout",
     "output_type": "stream",
     "text": [
      "[0, 2, 4, 6, 8]\n",
      "[0, 0, 0, 0, 1, 2, 0, 2, 4]\n",
      "[0, 0, 0, 0, 1, 2, 0, 2, 4]\n",
      "[0, 1, 4, 9]\n"
     ]
    }
   ],
   "source": [
    "#list comprehensions \n",
    "list1=range(0,10)\n",
    "number=[]\n",
    "#print only even numbers between0 to 10 using list comprehensions\n",
    "mylist=[number for number in list1 if number%2==0]\n",
    "print (mylist)\n",
    "\n",
    "#function that returns product of numbers.\n",
    "def times_tables():\n",
    "    lst = []\n",
    "    for i in range(3):\n",
    "        for j in range (3):\n",
    "            lst.append(i*j)\n",
    "    return lst\n",
    "print(times_tables())\n",
    "\n",
    "# same product of numbers function written as list comprehension\n",
    "list2=[num1*num2 for num1 in range(3) for num2 in range(3) ]\n",
    "print(list2)\n",
    "\n",
    "#square of numbers using list comprehension \n",
    "list3=[num1**2 for num1 in range(4)]\n",
    "print(list3)"
   ]
  },
  {
   "cell_type": "code",
   "execution_count": 41,
   "metadata": {},
   "outputs": [
    {
     "name": "stdout",
     "output_type": "stream",
     "text": [
      "zz99\n"
     ]
    }
   ],
   "source": [
    "#list comprehension to create possible user ids from alphabets and digits such that user id is first 2 chars and next 2 digits\n",
    "lowercase='abcdefghijklmnopqrstuvwxyz'\n",
    "digits='0123456789'\n",
    "#digits[::2]\n",
    "#type(digits)\n",
    "#type(lowercase)\n",
    "# for u1 in lowercase:\n",
    "#     for u2 in lowercase:\n",
    "#         print(u1+u2)\n",
    "userid=[u1+u2+u3+u4 for u1 in lowercase for u2 in lowercase for u3 in digits for u4 in digits]\n",
    "print(userid[-1])"
   ]
  },
  {
   "cell_type": "code",
   "execution_count": 67,
   "metadata": {},
   "outputs": [
    {
     "name": "stdout",
     "output_type": "stream",
     "text": [
      "[[ 0  1  2  3  4  5]\n",
      " [ 6  7  8  9 10 11]\n",
      " [12 13 14 15 16 17]\n",
      " [18 19 20 21 22 23]\n",
      " [24 25 26 27 28 29]\n",
      " [30 31 32 33 34 35]]\n",
      "[ 0  7 14 21 28 35]\n",
      "[[14 15]\n",
      " [20 21]]\n"
     ]
    }
   ],
   "source": [
    "# str1='abcde'\n",
    "# print(str1)\n",
    "# str1=str1+'abcdef'\n",
    "# print(str1)\n",
    "# tup1=(1,2,3)\n",
    "# print(tup1)\n",
    "# tup1=tup1+(1,2,3,4,5)\n",
    "# print(tup1)\n",
    "#print(['a','b','c']+[1,2,3])\n",
    "import numpy as np\n",
    "arr1=np.arange(0,36)\n",
    "#print(arr1)\n",
    "#print(arr1.shape)\n",
    "arr1.resize(6,6)\n",
    "print(arr1)\n",
    "#print(arr1.reshape(36))[::7]\n",
    "#print(arr1[0:6,::-7])\n",
    "#print(arr1[::7])\n",
    "print(arr1.reshape(36)[::7])\n",
    "#print(arr1[::8])\n",
    "print(arr1[2:4,2:4])\n"
   ]
  },
  {
   "cell_type": "code",
   "execution_count": 343,
   "metadata": {},
   "outputs": [
    {
     "data": {
      "text/html": [
       "<div>\n",
       "<style scoped>\n",
       "    .dataframe tbody tr th:only-of-type {\n",
       "        vertical-align: middle;\n",
       "    }\n",
       "\n",
       "    .dataframe tbody tr th {\n",
       "        vertical-align: top;\n",
       "    }\n",
       "\n",
       "    .dataframe thead th {\n",
       "        text-align: right;\n",
       "    }\n",
       "</style>\n",
       "<table border=\"1\" class=\"dataframe\">\n",
       "  <thead>\n",
       "    <tr style=\"text-align: right;\">\n",
       "      <th></th>\n",
       "      <th></th>\n",
       "      <th>Cost</th>\n",
       "      <th>Item Purchased</th>\n",
       "    </tr>\n",
       "    <tr>\n",
       "      <th>Locn</th>\n",
       "      <th>Name</th>\n",
       "      <th></th>\n",
       "      <th></th>\n",
       "    </tr>\n",
       "  </thead>\n",
       "  <tbody>\n",
       "    <tr>\n",
       "      <th rowspan=\"2\" valign=\"top\">Store 1</th>\n",
       "      <th>Chris</th>\n",
       "      <td>22.5</td>\n",
       "      <td>Dog Food</td>\n",
       "    </tr>\n",
       "    <tr>\n",
       "      <th>Kevyn</th>\n",
       "      <td>2.5</td>\n",
       "      <td>Kitty Litter</td>\n",
       "    </tr>\n",
       "    <tr>\n",
       "      <th>Store 2</th>\n",
       "      <th>Vinod</th>\n",
       "      <td>5.0</td>\n",
       "      <td>Bird Seed</td>\n",
       "    </tr>\n",
       "  </tbody>\n",
       "</table>\n",
       "</div>"
      ],
      "text/plain": [
       "               Cost Item Purchased\n",
       "Locn    Name                      \n",
       "Store 1 Chris  22.5       Dog Food\n",
       "        Kevyn   2.5   Kitty Litter\n",
       "Store 2 Vinod   5.0      Bird Seed"
      ]
     },
     "execution_count": 343,
     "metadata": {},
     "output_type": "execute_result"
    }
   ],
   "source": [
    "#Dataframe\n",
    "import pandas as pd\n",
    "purchase_1 = pd.Series({'Name': 'Chris',\n",
    "                        'Item Purchased': 'Dog Food',\n",
    "                        'Cost': 22.50})\n",
    "purchase_2 = pd.Series({'Name': 'Kevyn',\n",
    "                        'Item Purchased': 'Kitty Litter',\n",
    "                        'Cost': 2.50})\n",
    "purchase_3 = pd.Series({'Name': 'Vinod',\n",
    "                        'Item Purchased': 'Bird Seed',\n",
    "                        'Cost': 5.00})\n",
    "\n",
    "df = pd.DataFrame([purchase_1, purchase_2, purchase_3], index=['Store 1', 'Store 1', 'Store 2'])\n",
    "#df.where((df.Cost>3.00))\n",
    "#print(df['Item Purchased'])\n",
    "# df.Cost=df.Cost*0.8\n",
    "#df.loc[\"Store 1\"]\n",
    "#df.iloc[1:]\n",
    "Location=df.index.values\n",
    "# print(type(Location))\n",
    "# print(Location)\n",
    "# print(len(Location))\n",
    "# print(Location.shape)\n",
    "#print(Location.T)\n",
    "\n",
    "#df.columns.append(Location)\n",
    "#df.columns+=Location\n",
    "#df.columns\n",
    "df1=df.copy()\n",
    "df1=df1.assign(Locn=Location)\n",
    "#df1.set_index(['Location',df1.Name])\n",
    "#print(df1)\n",
    "df1=df1.reset_index(drop=True)\n",
    "df1=df1.set_index(['Locn','Name'])\n",
    "#df1=df1.set_index([Locn][Name])\n",
    "#set_index\n",
    "#print(df1)\n",
    "#print(df1.Locn)\n",
    "#df1.index\n",
    "# Location=[df1.index]\n",
    "# print(len(Location))\n",
    "# print(len(df1.index))\n",
    "# print(df1.index)\n",
    "# print(Location)\n",
    "#df1.assign(Locn=Location)\n",
    "#df1=df1.align('Locn':'Store2','Name':'Kevyn','Cost':'3.00','Item Purchased':'Kitty Food')\n",
    "df1\n",
    "#df1.loc['Locn','Name'][0]\n",
    "\n",
    "#df1.loc['Locn']['Name'][0]\n",
    "#df1.index.append\n",
    "# S1=pd.Series({'Locn':'Store2','Name':'Kevyn','Cost':'3.00','Item Purchased':'Kitty Food'})\n",
    "# S1\n",
    "# df1.append(S1,ignore_index=True)\n",
    "# #df1.append(['Store2'])\n",
    "#df1=df1.align('Locn':'Store2','Name':'Kevyn','Cost':'3.00','Item Purchased':'Kitty Food')\n",
    "#df1=df1.append('Locn':'Store2','Name':'Kevyn','Cost':'3.00','Item Purchased':'Kitty Food')\n",
    "# df1\n",
    "#df1.align('Store2','Kevyn','3.00','Kitty Food')\n",
    "# df2=pd.DataFrame(data=['Store2','Kevyn','3.00','Kitty Food'],index=['Store2','Kevyn'])\n",
    "# df2"
   ]
  },
  {
   "cell_type": "code",
   "execution_count": 341,
   "metadata": {},
   "outputs": [
    {
     "ename": "SyntaxError",
     "evalue": "invalid syntax (<ipython-input-341-28be395a0eed>, line 27)",
     "output_type": "error",
     "traceback": [
      "\u001b[0;36m  File \u001b[0;32m\"<ipython-input-341-28be395a0eed>\"\u001b[0;36m, line \u001b[0;32m27\u001b[0m\n\u001b[0;31m    help rename\u001b[0m\n\u001b[0m              ^\u001b[0m\n\u001b[0;31mSyntaxError\u001b[0m\u001b[0;31m:\u001b[0m invalid syntax\n"
     ]
    }
   ],
   "source": [
    "# products ={\n",
    "#     'Product ID':[4109,1412,8931],\n",
    "#     'Price':[5.0,0.5,1.5],\n",
    "#     'Product':['Sushi Roll','Egg','Bagel']\n",
    "# }\n",
    "# invoices ={\n",
    "#     'Customer':['Ali','Eric','Ande','Sam'],\n",
    "#     'Product ID':[4109,1412,8931,4109],\n",
    "#     'Quantity':[1,12,6,2]\n",
    "# }\n",
    "# Pro_df=pd.DataFrame(data=products)\n",
    "# Inv_df=pd.DataFrame(data=invoices)\n",
    "# # print(Pro_df)\n",
    "# # print(Inv_df)\n",
    "# Pro_df=Pro_df.set_index('Product ID')\n",
    "# Inv_df=Inv_df.set_index('Product ID')\n",
    "# # print(Pro_df)\n",
    "# # print(Inv_df)\n",
    "# Total_df=pd.merge(\n",
    "#     Pro_df,Inv_df,how='outer',left_index=True,right_index=True\n",
    "# )\n",
    "# #print(Total_df)\n",
    "# Total_df['Total']=Total_df['Price']*Total_df['Quantity']\n",
    "# print(Total_df)\n",
    "# Total_df['Price'].rename='Price(USD)'\n",
    "# print(Total_df)\n"
   ]
  },
  {
   "cell_type": "code",
   "execution_count": 5,
   "metadata": {},
   "outputs": [],
   "source": [
    "# df=df.rename_axis(\"Location\",axis=\"columns\")\n",
    "# S1=df.iloc[0]\n",
    "# print(S1.name)\n",
    "# df.iloc[0].name\n",
    "#df2=df.groupby('Name')\n",
    "#df2.count?\n",
    "#df1.iloc[:,1]\n",
    "#df.sort_values(by='Cost',ascending=False).head(1)\n",
    "# df.columns\n",
    "# df1.columns\n",
    "import numpy as np\n",
    "import pandas as pd\n",
    "data1=np.arange(1,10)\n",
    "data1\n",
    "data2=np.arange(0,9)\n",
    "data2\n",
    "# index\n",
    "df1=pd.DataFrame(data1,index=data2)\n",
    "col2=df1[0]*3\n",
    "df1=df1.assign(col2=col2)\n",
    "col3=df1[0]*df1['col2']\n",
    "col4=df1['col2']+6\n",
    "df1=df1.assign(col3=col3)\n",
    "df1=df1.assign(col4=col4)\n",
    "#df1.ind\n",
    "\n",
    "df1.set_index=['col2','col3']\n",
    "#df1               \n",
    "#df1.pivot_table(aggfunc=,)"
   ]
  },
  {
   "cell_type": "code",
   "execution_count": 445,
   "metadata": {},
   "outputs": [
    {
     "data": {
      "text/plain": [
       "'Bolivia (Plurinational State of)'"
      ]
     },
     "execution_count": 445,
     "metadata": {},
     "output_type": "execute_result"
    }
   ],
   "source": [
    "#load excel file \n",
    "energy1=pd.read_excel(\"Energy Indicators.xlsx\")\n",
    "#energy1\n",
    "#creating data frame\n",
    "energy=pd.DataFrame(data=energy1)\n",
    "#dropping junk rows and first 2 columns\n",
    "energy=energy.iloc[16:,2:6]\n",
    "energy.tail(20)\n",
    "\n",
    "#renaming columns\n",
    "energy=energy.rename(columns=\n",
    "               {\n",
    "                   'Environmental Indicators: Energy':'Country',\n",
    "                   'Unnamed: 3':'Energy Supply',\n",
    "                   'Unnamed: 4':'Energy Supply per Capita',\n",
    "                   'Unnamed: 5':'% Renewable'\n",
    "               }\n",
    "            )\n",
    "#energy\n",
    "#converting petajoules to Gigajoules\n",
    "PetatoGiga=lambda x:x*1000000\n",
    "energy['Energy Supply']=PetatoGiga(energy['Energy Supply'])\n",
    "energy\n",
    "energy_cp=energy\n",
    "energy_cp['Energy Supply']=pd.to_numeric(energy_cp['Energy Supply'],errors='Coerce')\n",
    "energy_cp['Energy Supply per Capita']=pd.to_numeric(energy_cp['Energy Supply per Capita'],errors='Coerce')\n",
    "energy_cp.describe()\n",
    "energy_cp=energy_cp.loc[:249]\n",
    "energy_cp\n",
    "S1=energy_cp['Country']\n",
    "S1=S1.replace({'Republic of Korea':'South Korea',\n",
    "                                       'United States of America20': 'United States',\n",
    "                                         'United Kingdom of Great Britain and Northern Ireland19': 'United Kingdom',\n",
    "                                         'China, Hong Kong Special Administrative Region3': 'Hong Kong'\n",
    "                                        }\n",
    "                                       )\n",
    "S1\n",
    "energy_cp=energy_cp.rename(columns={'Country':'Country1'})\n",
    "energy_cp\n",
    "energy_cp['Country']=S1\n",
    "energy_cp=energy_cp.drop(columns='Country1')\n",
    "energy_cp\n",
    "S1=energy_cp['Country']\n",
    "\n",
    "pdf=S1.str.extract(\"(?P<paren>[\\(])\",expand=True)\n",
    "pdf_1=pdf.dropna()\n",
    "\n",
    "\n",
    "pdf1=S1.str.extract(\"(?P<digit>\\d)\",expand=True)\n",
    "pdf1_1=pdf1.dropna()\n",
    "\n",
    "#40,66,72,86,114,129,149,199,237\n",
    "lst1=[]\n",
    "lst2=[]\n",
    "for i in pdf1_1.index.values:\n",
    "    lst1.append(S1.loc[i])\n",
    "for i in range(0,len(lst1)):\n",
    "    lst1[i]=lst1[i][0:len(lst1[i])-1]\n",
    "\n",
    "S2=pd.Series(lst1[0:])\n",
    "pdf2=S2.str.extract(\"(?P<digit>\\d)\",expand=True)\n",
    "pdf2\n",
    "pdf2=pdf2.dropna()\n",
    "for i in pdf2.index.values:\n",
    "    lst2.append(lst1[i])\n",
    "lst2\n",
    "for i in range(0,len(lst2)):\n",
    "    lst2[i]=lst2[i][0:len(lst2[i])-1]\n",
    "lst2\n",
    "\n",
    "#lst_0=[]\n",
    "lst_1=[]\n",
    "for i in pdf_1.index.values:\n",
    "    #print(S1.loc[i])\n",
    "    lst=S1.loc[i]\n",
    "    lst_1.append(lst[0:(lst.find(\"(\"))-1])\n",
    "#without parentheses\n",
    "Lst_no_paren=lst_1\n",
    "#without digits\n",
    "pdf2.index.values[0]\n",
    "lst1[0:(pdf2.index.values[0])-1]\n",
    "lst2\n",
    "Lst_no_digits=lst1[0:(pdf2.index.values[0])-1]+lst2\n",
    "#printing both \n",
    "Lst_no_paren\n",
    "Lst_no_digits\n",
    "#final list \n",
    "Lst_final =Lst_no_paren+Lst_no_digits\n",
    "Lst_final\n",
    "#S1.replace(S1.str.match(\"Bolivia\")\n",
    "#S1.loc[40]\n",
    "#S1\n",
    "#pdf.isna().index.values\n",
    "#pdf3=S1.str.extract(\"(?P<paren>[\\(])|(?P<digit>\\d)\",expand=True)\n",
    "#pdf_1.index.values\n",
    "#pdf1_1.index.values\n",
    "# for i in range(0,len(lst)):\n",
    "#     lst_1.append(lst[i][0:(lst.find(\"(\"))-1])          \n",
    "# lst_0  \n",
    "#lst_1\n",
    "# lst=[S1.loc[40]]\n",
    "# lst\n",
    "# lst_1=lst[0:(lst.str.find(\"(\"))-1]\n",
    "# lst_1\n",
    "#len(lst)\n",
    "#lst[8]\n",
    "#['Country', 'Energy Supply', 'Energy Supply per Capita', '% Renewable']\n",
    "#second rename :\n",
    "# \"Republic of Korea\": \"South Korea\",\n",
    "# \"United States of America\": \"United States\",\n",
    "# \"United Kingdom of Great Britain and Northern Ireland\": \"United Kingdom\",\n",
    "# \"China, Hong Kong Special Administrative Region\": \"Hong Kong\""
   ]
  },
  {
   "cell_type": "code",
   "execution_count": null,
   "metadata": {},
   "outputs": [],
   "source": []
  },
  {
   "cell_type": "code",
   "execution_count": null,
   "metadata": {},
   "outputs": [],
   "source": []
  }
 ],
 "metadata": {
  "kernelspec": {
   "display_name": "Python 3",
   "language": "python",
   "name": "python3"
  },
  "language_info": {
   "codemirror_mode": {
    "name": "ipython",
    "version": 3
   },
   "file_extension": ".py",
   "mimetype": "text/x-python",
   "name": "python",
   "nbconvert_exporter": "python",
   "pygments_lexer": "ipython3",
   "version": "3.6.4"
  }
 },
 "nbformat": 4,
 "nbformat_minor": 2
}
