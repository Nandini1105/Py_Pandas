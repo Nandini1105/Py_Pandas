{
 "cells": [
  {
   "cell_type": "code",
   "execution_count": 11,
   "metadata": {},
   "outputs": [
    {
     "name": "stdout",
     "output_type": "stream",
     "text": [
      "Sat Feb 24 13:31:00 SGT 2018\n",
      "Hello World\n",
      "Nandini\n",
      "\u001b[H\u001b[2J/Users/nandinichaturvedi\n",
      "total 24\n",
      "-rw-r--r--    1 nandinichaturvedi  staff   931 Feb 24 13:08 UnixShell.ipynb\n",
      "-rw-r--r--    1 nandinichaturvedi  staff  1302 Feb 18 22:29 R Practice.ipynb\n",
      "-rw-r--r--    1 nandinichaturvedi  staff   686 Feb 18 19:24 Python_practice.ipynb\n",
      "drwxr-xr-x+   5 nandinichaturvedi  staff   170 Nov  9  2014 \u001b[34mPublic\u001b[m\u001b[m\n",
      "drwx------+   6 nandinichaturvedi  staff   204 Jun  5  2016 \u001b[34mPictures\u001b[m\u001b[m\n",
      "drwx------+   4 nandinichaturvedi  staff   136 Dec 13  2014 \u001b[34mMusic\u001b[m\u001b[m\n",
      "drwx------+   3 nandinichaturvedi  staff   102 Nov  9  2014 \u001b[34mMovies\u001b[m\u001b[m\n",
      "drwx------@  58 nandinichaturvedi  staff  1972 Feb 18 19:21 \u001b[34mLibrary\u001b[m\u001b[m\n",
      "drwx------+ 103 nandinichaturvedi  staff  3502 Feb 22 23:06 \u001b[34mDownloads\u001b[m\u001b[m\n",
      "drwx------+  54 nandinichaturvedi  staff  1836 Feb  4 21:57 \u001b[34mDocuments\u001b[m\u001b[m\n",
      "drwx------+   5 nandinichaturvedi  staff   170 Feb 18 22:06 \u001b[34mDesktop\u001b[m\u001b[m\n",
      "drwxr-xr-x   10 nandinichaturvedi  staff   340 Jul  6  2016 \u001b[34mApplications\u001b[m\u001b[m\n"
     ]
    }
   ],
   "source": [
    "#COursera Unix workbench Ex :1 \n",
    "!date \n",
    "#echo usage with hello world\n",
    "!echo \"Hello World\"\n",
    "#Ex1 ; Print Name \n",
    "!echo \"Nandini\"\n",
    "#Clear screen\n",
    "!clear\n",
    "#present working directory\n",
    "!pwd\n",
    "#list\n",
    "!ls -lr"
   ]
  }
 ],
 "metadata": {
  "kernelspec": {
   "display_name": "Python 3",
   "language": "python",
   "name": "python3"
  },
  "language_info": {
   "codemirror_mode": {
    "name": "ipython",
    "version": 3
   },
   "file_extension": ".py",
   "mimetype": "text/x-python",
   "name": "python",
   "nbconvert_exporter": "python",
   "pygments_lexer": "ipython3",
   "version": "3.6.4"
  }
 },
 "nbformat": 4,
 "nbformat_minor": 2
}
