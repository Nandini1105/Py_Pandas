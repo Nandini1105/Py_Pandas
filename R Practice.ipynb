{
 "cells": [
  {
   "cell_type": "code",
   "execution_count": 33,
   "metadata": {},
   "outputs": [
    {
     "name": "stdout",
     "output_type": "stream",
     "text": [
      "[1] \"a\" \"b\" \"c\" \"d\" \"e\"\n"
     ]
    },
    {
     "ename": "ERROR",
     "evalue": "Error in arr1 + arr2: non-numeric argument to binary operator\n",
     "output_type": "error",
     "traceback": [
      "Error in arr1 + arr2: non-numeric argument to binary operator\nTraceback:\n"
     ]
    }
   ],
   "source": [
    "arr1=as.array(cbind(c(1:10),c(11:20)))\n",
    "clasS(arr1)\n",
    "#print(arr1)\n",
    "#dim(arr1)\n",
    "#arr1[,]\n",
    "arr2=c('a','b','c','d','e')\n",
    "print(arr2)\n",
    "class(arr2)\n",
    "arr1=\n",
    "print(arr1)"
   ]
  },
  {
   "cell_type": "code",
   "execution_count": 34,
   "metadata": {},
   "outputs": [
    {
     "data": {},
     "metadata": {},
     "output_type": "display_data"
    }
   ],
   "source": [
    "??arr"
   ]
  }
 ],
 "metadata": {
  "kernelspec": {
   "display_name": "R",
   "language": "R",
   "name": "ir"
  },
  "language_info": {
   "codemirror_mode": "r",
   "file_extension": ".r",
   "mimetype": "text/x-r-source",
   "name": "R",
   "pygments_lexer": "r",
   "version": "3.4.2"
  }
 },
 "nbformat": 4,
 "nbformat_minor": 2
}
